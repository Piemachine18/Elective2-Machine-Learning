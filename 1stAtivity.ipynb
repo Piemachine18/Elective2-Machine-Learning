{
  "nbformat": 4,
  "nbformat_minor": 0,
  "metadata": {
    "colab": {
      "provenance": [],
      "authorship_tag": "ABX9TyM6QF/x0yGZD6fxpinCh/ZI",
      "include_colab_link": true
    },
    "kernelspec": {
      "name": "python3",
      "display_name": "Python 3"
    },
    "language_info": {
      "name": "python"
    }
  },
  "cells": [
    {
      "cell_type": "markdown",
      "metadata": {
        "id": "view-in-github",
        "colab_type": "text"
      },
      "source": [
        "<a href=\"https://colab.research.google.com/github/Piemachine18/Elective2-Machine-Learning/blob/main/1stAtivity.ipynb\" target=\"_parent\"><img src=\"https://colab.research.google.com/assets/colab-badge.svg\" alt=\"Open In Colab\"/></a>"
      ]
    },
    {
      "cell_type": "markdown",
      "source": [
        "##Practice Activity\n",
        "\n",
        "  1.Create variable declarations for\n",
        " \n",
        "   - First name \n",
        "   - Grades for Prelim\n",
        "   - Grades for Midterm\n",
        "   - Grades for Finals\n"
      ],
      "metadata": {
        "id": "wMsFN3Kgeaph"
      }
    },
    {
      "cell_type": "code",
      "source": [
        "import pandas as pd "
      ],
      "metadata": {
        "id": "T0Cvqyx8efE8"
      },
      "execution_count": null,
      "outputs": []
    },
    {
      "cell_type": "code",
      "source": [
        "First_names = [\"John\",\"Paul\",\"Patrick\"]\n",
        "Grades_for_Prelim = [\"90.2\",\"95.6\",\"89.5\",\"87.9\",\"97.9\"]\n",
        "Grades_for_Midterm = [\"85.5\",\"87.6\",\"88.9\",\"86.6\",\"89.3\"]\n",
        "Grades_for_Finals = [\"96.5\",\"97.8\",\"98.8\",\"89.5\",\"87.8\"]"
      ],
      "metadata": {
        "id": "h-MoBaZ0gFss"
      },
      "execution_count": 9,
      "outputs": []
    },
    {
      "cell_type": "code",
      "source": [
        "First_names"
      ],
      "metadata": {
        "colab": {
          "base_uri": "https://localhost:8080/"
        },
        "id": "tEybYgyygU6I",
        "outputId": "64404033-2096-462f-b5ce-a17940e892ff"
      },
      "execution_count": 15,
      "outputs": [
        {
          "output_type": "execute_result",
          "data": {
            "text/plain": [
              "['John', 'Paul', 'Patrick']"
            ]
          },
          "metadata": {},
          "execution_count": 15
        }
      ]
    },
    {
      "cell_type": "code",
      "source": [
        "Grades_for_Prelim"
      ],
      "metadata": {
        "colab": {
          "base_uri": "https://localhost:8080/"
        },
        "id": "dLAbo9D5ibSS",
        "outputId": "221ebde5-0211-4cfc-f2fd-9f2bcb5771fd"
      },
      "execution_count": 16,
      "outputs": [
        {
          "output_type": "execute_result",
          "data": {
            "text/plain": [
              "['90.2', '95.6', '89.5', '87.9', '97.9']"
            ]
          },
          "metadata": {},
          "execution_count": 16
        }
      ]
    },
    {
      "cell_type": "code",
      "source": [
        "Grades_for_Midterm"
      ],
      "metadata": {
        "colab": {
          "base_uri": "https://localhost:8080/"
        },
        "id": "jfi4rMzxit4z",
        "outputId": "519488ef-eb56-4098-9f0b-90e3f0cce91d"
      },
      "execution_count": 11,
      "outputs": [
        {
          "output_type": "execute_result",
          "data": {
            "text/plain": [
              "['85.5', '87.6', '88.9', '86.6', '89.3']"
            ]
          },
          "metadata": {},
          "execution_count": 11
        }
      ]
    },
    {
      "cell_type": "code",
      "source": [
        "Grades_for_Finals"
      ],
      "metadata": {
        "colab": {
          "base_uri": "https://localhost:8080/"
        },
        "id": "W7GiSCEGjIIZ",
        "outputId": "dec4649c-3dd4-431d-e90a-910a4897851a"
      },
      "execution_count": 12,
      "outputs": [
        {
          "output_type": "execute_result",
          "data": {
            "text/plain": [
              "['96.5', '97.8', '98.8', '89.5', '87.8']"
            ]
          },
          "metadata": {},
          "execution_count": 12
        }
      ]
    },
    {
      "cell_type": "markdown",
      "source": [
        "##CASE 2\n"
      ],
      "metadata": {
        "id": "fyfC9YIAkl_2"
      }
    },
    {
      "cell_type": "code",
      "source": [
        "gs_1 = [89, 90, 73, 45]\n",
        "\n",
        "class_g = 0\n",
        "for g in gs_1:\n",
        "  class_g += g\n",
        "cmean = class_g/len(gs_1)\n",
        "print (cmean)  \n"
      ],
      "metadata": {
        "colab": {
          "base_uri": "https://localhost:8080/"
        },
        "id": "KYg5yB3xjKGY",
        "outputId": "39411d3f-7090-4ff0-f363-4322a269d1e3"
      },
      "execution_count": 19,
      "outputs": [
        {
          "output_type": "stream",
          "name": "stdout",
          "text": [
            "74.25\n"
          ]
        }
      ]
    },
    {
      "cell_type": "code",
      "source": [
        "\n",
        "def average(grades):\n",
        "    grades_class = 0\n",
        "    for g in grades:\n",
        "      grades_class += g\n",
        "    avg = grades_class/len(grades)\n",
        "    return avg\n",
        "\n",
        "    "
      ],
      "metadata": {
        "id": "lc7WdWOnkUOU"
      },
      "execution_count": 31,
      "outputs": []
    },
    {
      "cell_type": "code",
      "source": [
        "def get_class_ave(arr):\n",
        "  class_grades = 0\n",
        "  for grade in arr:\n",
        "    class_grades += grade\n",
        "  class_avg = class_grades/len(arr)\n",
        "  return class_avg"
      ],
      "metadata": {
        "id": "rMS4pb-5lyqF"
      },
      "execution_count": 25,
      "outputs": []
    },
    {
      "cell_type": "markdown",
      "source": [
        "##Getting Class Statistic"
      ],
      "metadata": {
        "id": "mYqiSjxNmhmf"
      }
    },
    {
      "cell_type": "code",
      "source": [],
      "metadata": {
        "id": "3Th_ZqDSl8LQ"
      },
      "execution_count": null,
      "outputs": []
    },
    {
      "cell_type": "markdown",
      "source": [
        "##CASE 3 and Practice Activity"
      ],
      "metadata": {
        "id": "HlGQ1Nn0rRdy"
      }
    },
    {
      "cell_type": "code",
      "source": [
        "img1 =[[125.453, 254],[64.21,84.53]]\n",
        "img1"
      ],
      "metadata": {
        "colab": {
          "base_uri": "https://localhost:8080/"
        },
        "id": "MJfRouYmrTri",
        "outputId": "9cfd0b8b-4680-45ad-bb64-fcf8c459afb8"
      },
      "execution_count": 32,
      "outputs": [
        {
          "output_type": "execute_result",
          "data": {
            "text/plain": [
              "[[125.453, 254], [64.21, 84.53]]"
            ]
          },
          "metadata": {},
          "execution_count": 32
        }
      ]
    },
    {
      "cell_type": "code",
      "source": [
        "import numpy as np\n",
        "img1_vector=  np.array(img1)\n",
        "img1_vector"
      ],
      "metadata": {
        "colab": {
          "base_uri": "https://localhost:8080/"
        },
        "id": "XoJz90gJrlXe",
        "outputId": "c4f5083a-84be-4397-fd94-b6484dee7f2b"
      },
      "execution_count": 36,
      "outputs": [
        {
          "output_type": "execute_result",
          "data": {
            "text/plain": [
              "array([[125.453, 254.   ],\n",
              "       [ 64.21 ,  84.53 ]])"
            ]
          },
          "metadata": {},
          "execution_count": 36
        }
      ]
    },
    {
      "cell_type": "code",
      "source": [
        "curr_2018_courses = ['220', '270', '318', '450', '101', '768', '223L', '223', '727', '418',  '673', '672', '450', '124', '771', '654', '231', '768', '768', '224', '654', '673']"
      ],
      "metadata": {
        "id": "EuyeOJ1UtuA1"
      },
      "execution_count": 38,
      "outputs": []
    },
    {
      "cell_type": "code",
      "source": [
        "def get_unique_numbers(curr_2018_courses):\n",
        "\n",
        "    list_of_unique_numbers = []\n",
        "\n",
        "    unique_numbers = set(curr_2018_courses)\n",
        "\n",
        "    for number in unique_numbers:\n",
        "        list_of_unique_numbers.append(number)\n",
        "\n",
        "    return list_of_unique_numbers\n",
        "\n",
        "\n",
        "print(get_unique_numbers(curr_2018_courses))"
      ],
      "metadata": {
        "colab": {
          "base_uri": "https://localhost:8080/"
        },
        "id": "Nzt9RBNRvv8K",
        "outputId": "049cde16-f58d-4451-b7ca-1345f173063c"
      },
      "execution_count": 39,
      "outputs": [
        {
          "output_type": "stream",
          "name": "stdout",
          "text": [
            "['223L', '124', '672', '418', '318', '673', '771', '220', '224', '768', '231', '101', '727', '450', '654', '223', '270']\n"
          ]
        }
      ]
    },
    {
      "cell_type": "code",
      "source": [],
      "metadata": {
        "id": "7IeCo5slvxjk"
      },
      "execution_count": null,
      "outputs": []
    }
  ]
}